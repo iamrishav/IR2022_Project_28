{
  "nbformat": 4,
  "nbformat_minor": 0,
  "metadata": {
    "colab": {
      "name": "IR_Models.ipynb",
      "provenance": [],
      "collapsed_sections": [],
      "include_colab_link": true
    },
    "kernelspec": {
      "name": "python3",
      "display_name": "Python 3"
    },
    "language_info": {
      "name": "python"
    }
  },
  "cells": [
    {
      "cell_type": "markdown",
      "metadata": {
        "id": "view-in-github",
        "colab_type": "text"
      },
      "source": [
        "<a href=\"https://colab.research.google.com/github/iamrishav/IR2022_Project_28/blob/main/IR_Models.ipynb\" target=\"_parent\"><img src=\"https://colab.research.google.com/assets/colab-badge.svg\" alt=\"Open In Colab\"/></a>"
      ]
    },
    {
      "cell_type": "code",
      "source": [
        "# !pip install -U spacy\n"
      ],
      "metadata": {
        "id": "-h-qrNKHzetj"
      },
      "execution_count": null,
      "outputs": []
    },
    {
      "cell_type": "code",
      "source": [
        "# !python3 -m spacy download en_core_web_trf"
      ],
      "metadata": {
        "id": "EDbwFDcYztvb"
      },
      "execution_count": null,
      "outputs": []
    },
    {
      "cell_type": "code",
      "source": [
        "import spacy\n"
      ],
      "metadata": {
        "id": "yOxugyJy0ekB"
      },
      "execution_count": null,
      "outputs": []
    },
    {
      "cell_type": "code",
      "source": [
        "# pip install -U spacy[transformers]"
      ],
      "metadata": {
        "id": "5Jpgc8090sTh"
      },
      "execution_count": null,
      "outputs": []
    },
    {
      "cell_type": "code",
      "source": [
        "import pandas as pd\n",
        "import numpy as np\n",
        "import zipfile,nltk\n",
        "from nltk.corpus import PlaintextCorpusReader \n",
        "import string\n",
        "from nltk.tokenize import word_tokenize\n",
        "nltk.download('punkt')\n",
        "import re\n",
        "from nltk.corpus import stopwords\n",
        "import heapq as hq\n",
        "import sys\n",
        "import nltk\n",
        "from nltk.stem import WordNetLemmatizer\n",
        "from nltk.tokenize import word_tokenize\n",
        "from nltk.corpus import stopwords\n",
        "import pandas as pd\n",
        "import csv\n",
        "import os\n",
        "import string\n",
        "import re\n",
        "from bs4 import BeautifulSoup\n",
        "from ast import literal_eval\n",
        "nltk.download('stopwords')\n",
        "from collections import Counter\n",
        "import math"
      ],
      "metadata": {
        "id": "MPeZLQFJuErJ"
      },
      "execution_count": null,
      "outputs": []
    },
    {
      "cell_type": "markdown",
      "source": [
        "STOPWORDS"
      ],
      "metadata": {
        "id": "QSlfX8Zha0tM"
      }
    },
    {
      "cell_type": "code",
      "source": [
        "stopwords = set(stopwords.words('english'))"
      ],
      "metadata": {
        "id": "qvhJKzogvRva"
      },
      "execution_count": null,
      "outputs": []
    },
    {
      "cell_type": "code",
      "source": [
        "# stopwords"
      ],
      "metadata": {
        "id": "FMwg96Fm0GDt"
      },
      "execution_count": null,
      "outputs": []
    },
    {
      "cell_type": "code",
      "source": [
        "stopwords.add(\"places\")\n",
        "stopwords.add(\"place\")"
      ],
      "metadata": {
        "id": "6D2VRtQjz6_5"
      },
      "execution_count": null,
      "outputs": []
    },
    {
      "cell_type": "code",
      "source": [
        "from google.colab import drive\n",
        "drive.mount('/content/drive')"
      ],
      "metadata": {
        "colab": {
          "base_uri": "https://localhost:8080/"
        },
        "id": "zc9Y8LXctwqR",
        "outputId": "9dff8f0b-b586-4fa1-c270-5bc310b8b8ca"
      },
      "execution_count": null,
      "outputs": [
        {
          "output_type": "stream",
          "name": "stdout",
          "text": [
            "Drive already mounted at /content/drive; to attempt to forcibly remount, call drive.mount(\"/content/drive\", force_remount=True).\n"
          ]
        }
      ]
    },
    {
      "cell_type": "markdown",
      "source": [
        "READING DATA"
      ],
      "metadata": {
        "id": "lf0irGZ1a3NM"
      }
    },
    {
      "cell_type": "code",
      "source": [
        "df=pd.read_csv('/content/drive/MyDrive/IR_Project_Shared/Project_data_mid_final.csv')"
      ],
      "metadata": {
        "id": "uZBKF2kmuBOv"
      },
      "execution_count": null,
      "outputs": []
    },
    {
      "cell_type": "code",
      "source": [
        "df"
      ],
      "metadata": {
        "id": "gUweV_B0uDat",
        "colab": {
          "base_uri": "https://localhost:8080/",
          "height": 423
        },
        "outputId": "ea2ab385-f25e-4853-ae00-cda6753ff4ca"
      },
      "execution_count": null,
      "outputs": [
        {
          "output_type": "execute_result",
          "data": {
            "text/plain": [
              "                     Place       City  \\\n",
              "0                 3Cs Mall  New Delhi   \n",
              "1               Aai Museum     Mumbai   \n",
              "2     Aarey Bhaskar Garden     Mumbai   \n",
              "3             Aarey Colony     Mumbai   \n",
              "4         Adventure Island  New Delhi   \n",
              "..                     ...        ...   \n",
              "338             Worli Fort     Mumbai   \n",
              "339         Worli Sea Face     Mumbai   \n",
              "340  Yamuna Sports Complex  New Delhi   \n",
              "341         Yogmaya Temple  New Delhi   \n",
              "342            Zafar Mahal  New Delhi   \n",
              "\n",
              "                                            Raw_Review    Rating  \\\n",
              "0    ['better', 'ordered', 'gut', 'pre', 'strong', ...  4.000000   \n",
              "1    ['lovers', 'two', 'brave', 'nice', 'pilaji', '...  5.000000   \n",
              "2    ['making', 'actually', 'east', 'lively', 'main...  5.000000   \n",
              "3    ['soothing', 'mumbai', 'left', 'others', 'calm...  3.545455   \n",
              "4    ['clean', 'budget', 'foul', 'comments', 'aerop...  4.507246   \n",
              "..                                                 ...       ...   \n",
              "338  ['clearly', 'arabian', 'terrace', 'link', 'bay...  5.000000   \n",
              "339  ['clean', 'mumbai', 'aroma', 'residence', 'bel...  4.418182   \n",
              "340  ['clean', 'management', 'possible', 'feel', 'c...  3.750000   \n",
              "341  ['killed', 'prison', 'krishna', 'fell', 'girl'...  2.000000   \n",
              "342  ['summer', 'imposing', 'portions', 'rulers', '...  3.000000   \n",
              "\n",
              "                         new_lat_long  \n",
              "0             [28.5658122,77.2468466]  \n",
              "1     [19.0964017, 72.86293309999999]  \n",
              "2             [19.1714434,72.8725018]  \n",
              "3     [19.1503904, 72.87426783008218]  \n",
              "4              [28.7251351,77.113468]  \n",
              "..                                ...  \n",
              "338  [19.02374855, 72.81683615091026]  \n",
              "339           [19.005448, 72.8137566]  \n",
              "340          [28.6635553, 77.3116132]  \n",
              "341          [28.5252513, 77.1827064]  \n",
              "342          [28.5190499, 77.1797279]  \n",
              "\n",
              "[343 rows x 5 columns]"
            ],
            "text/html": [
              "\n",
              "  <div id=\"df-eb7bfdc9-dad5-42d7-b36f-a3e9c857d48f\">\n",
              "    <div class=\"colab-df-container\">\n",
              "      <div>\n",
              "<style scoped>\n",
              "    .dataframe tbody tr th:only-of-type {\n",
              "        vertical-align: middle;\n",
              "    }\n",
              "\n",
              "    .dataframe tbody tr th {\n",
              "        vertical-align: top;\n",
              "    }\n",
              "\n",
              "    .dataframe thead th {\n",
              "        text-align: right;\n",
              "    }\n",
              "</style>\n",
              "<table border=\"1\" class=\"dataframe\">\n",
              "  <thead>\n",
              "    <tr style=\"text-align: right;\">\n",
              "      <th></th>\n",
              "      <th>Place</th>\n",
              "      <th>City</th>\n",
              "      <th>Raw_Review</th>\n",
              "      <th>Rating</th>\n",
              "      <th>new_lat_long</th>\n",
              "    </tr>\n",
              "  </thead>\n",
              "  <tbody>\n",
              "    <tr>\n",
              "      <th>0</th>\n",
              "      <td>3Cs Mall</td>\n",
              "      <td>New Delhi</td>\n",
              "      <td>['better', 'ordered', 'gut', 'pre', 'strong', ...</td>\n",
              "      <td>4.000000</td>\n",
              "      <td>[28.5658122,77.2468466]</td>\n",
              "    </tr>\n",
              "    <tr>\n",
              "      <th>1</th>\n",
              "      <td>Aai Museum</td>\n",
              "      <td>Mumbai</td>\n",
              "      <td>['lovers', 'two', 'brave', 'nice', 'pilaji', '...</td>\n",
              "      <td>5.000000</td>\n",
              "      <td>[19.0964017, 72.86293309999999]</td>\n",
              "    </tr>\n",
              "    <tr>\n",
              "      <th>2</th>\n",
              "      <td>Aarey Bhaskar Garden</td>\n",
              "      <td>Mumbai</td>\n",
              "      <td>['making', 'actually', 'east', 'lively', 'main...</td>\n",
              "      <td>5.000000</td>\n",
              "      <td>[19.1714434,72.8725018]</td>\n",
              "    </tr>\n",
              "    <tr>\n",
              "      <th>3</th>\n",
              "      <td>Aarey Colony</td>\n",
              "      <td>Mumbai</td>\n",
              "      <td>['soothing', 'mumbai', 'left', 'others', 'calm...</td>\n",
              "      <td>3.545455</td>\n",
              "      <td>[19.1503904, 72.87426783008218]</td>\n",
              "    </tr>\n",
              "    <tr>\n",
              "      <th>4</th>\n",
              "      <td>Adventure Island</td>\n",
              "      <td>New Delhi</td>\n",
              "      <td>['clean', 'budget', 'foul', 'comments', 'aerop...</td>\n",
              "      <td>4.507246</td>\n",
              "      <td>[28.7251351,77.113468]</td>\n",
              "    </tr>\n",
              "    <tr>\n",
              "      <th>...</th>\n",
              "      <td>...</td>\n",
              "      <td>...</td>\n",
              "      <td>...</td>\n",
              "      <td>...</td>\n",
              "      <td>...</td>\n",
              "    </tr>\n",
              "    <tr>\n",
              "      <th>338</th>\n",
              "      <td>Worli Fort</td>\n",
              "      <td>Mumbai</td>\n",
              "      <td>['clearly', 'arabian', 'terrace', 'link', 'bay...</td>\n",
              "      <td>5.000000</td>\n",
              "      <td>[19.02374855, 72.81683615091026]</td>\n",
              "    </tr>\n",
              "    <tr>\n",
              "      <th>339</th>\n",
              "      <td>Worli Sea Face</td>\n",
              "      <td>Mumbai</td>\n",
              "      <td>['clean', 'mumbai', 'aroma', 'residence', 'bel...</td>\n",
              "      <td>4.418182</td>\n",
              "      <td>[19.005448, 72.8137566]</td>\n",
              "    </tr>\n",
              "    <tr>\n",
              "      <th>340</th>\n",
              "      <td>Yamuna Sports Complex</td>\n",
              "      <td>New Delhi</td>\n",
              "      <td>['clean', 'management', 'possible', 'feel', 'c...</td>\n",
              "      <td>3.750000</td>\n",
              "      <td>[28.6635553, 77.3116132]</td>\n",
              "    </tr>\n",
              "    <tr>\n",
              "      <th>341</th>\n",
              "      <td>Yogmaya Temple</td>\n",
              "      <td>New Delhi</td>\n",
              "      <td>['killed', 'prison', 'krishna', 'fell', 'girl'...</td>\n",
              "      <td>2.000000</td>\n",
              "      <td>[28.5252513, 77.1827064]</td>\n",
              "    </tr>\n",
              "    <tr>\n",
              "      <th>342</th>\n",
              "      <td>Zafar Mahal</td>\n",
              "      <td>New Delhi</td>\n",
              "      <td>['summer', 'imposing', 'portions', 'rulers', '...</td>\n",
              "      <td>3.000000</td>\n",
              "      <td>[28.5190499, 77.1797279]</td>\n",
              "    </tr>\n",
              "  </tbody>\n",
              "</table>\n",
              "<p>343 rows × 5 columns</p>\n",
              "</div>\n",
              "      <button class=\"colab-df-convert\" onclick=\"convertToInteractive('df-eb7bfdc9-dad5-42d7-b36f-a3e9c857d48f')\"\n",
              "              title=\"Convert this dataframe to an interactive table.\"\n",
              "              style=\"display:none;\">\n",
              "        \n",
              "  <svg xmlns=\"http://www.w3.org/2000/svg\" height=\"24px\"viewBox=\"0 0 24 24\"\n",
              "       width=\"24px\">\n",
              "    <path d=\"M0 0h24v24H0V0z\" fill=\"none\"/>\n",
              "    <path d=\"M18.56 5.44l.94 2.06.94-2.06 2.06-.94-2.06-.94-.94-2.06-.94 2.06-2.06.94zm-11 1L8.5 8.5l.94-2.06 2.06-.94-2.06-.94L8.5 2.5l-.94 2.06-2.06.94zm10 10l.94 2.06.94-2.06 2.06-.94-2.06-.94-.94-2.06-.94 2.06-2.06.94z\"/><path d=\"M17.41 7.96l-1.37-1.37c-.4-.4-.92-.59-1.43-.59-.52 0-1.04.2-1.43.59L10.3 9.45l-7.72 7.72c-.78.78-.78 2.05 0 2.83L4 21.41c.39.39.9.59 1.41.59.51 0 1.02-.2 1.41-.59l7.78-7.78 2.81-2.81c.8-.78.8-2.07 0-2.86zM5.41 20L4 18.59l7.72-7.72 1.47 1.35L5.41 20z\"/>\n",
              "  </svg>\n",
              "      </button>\n",
              "      \n",
              "  <style>\n",
              "    .colab-df-container {\n",
              "      display:flex;\n",
              "      flex-wrap:wrap;\n",
              "      gap: 12px;\n",
              "    }\n",
              "\n",
              "    .colab-df-convert {\n",
              "      background-color: #E8F0FE;\n",
              "      border: none;\n",
              "      border-radius: 50%;\n",
              "      cursor: pointer;\n",
              "      display: none;\n",
              "      fill: #1967D2;\n",
              "      height: 32px;\n",
              "      padding: 0 0 0 0;\n",
              "      width: 32px;\n",
              "    }\n",
              "\n",
              "    .colab-df-convert:hover {\n",
              "      background-color: #E2EBFA;\n",
              "      box-shadow: 0px 1px 2px rgba(60, 64, 67, 0.3), 0px 1px 3px 1px rgba(60, 64, 67, 0.15);\n",
              "      fill: #174EA6;\n",
              "    }\n",
              "\n",
              "    [theme=dark] .colab-df-convert {\n",
              "      background-color: #3B4455;\n",
              "      fill: #D2E3FC;\n",
              "    }\n",
              "\n",
              "    [theme=dark] .colab-df-convert:hover {\n",
              "      background-color: #434B5C;\n",
              "      box-shadow: 0px 1px 3px 1px rgba(0, 0, 0, 0.15);\n",
              "      filter: drop-shadow(0px 1px 2px rgba(0, 0, 0, 0.3));\n",
              "      fill: #FFFFFF;\n",
              "    }\n",
              "  </style>\n",
              "\n",
              "      <script>\n",
              "        const buttonEl =\n",
              "          document.querySelector('#df-eb7bfdc9-dad5-42d7-b36f-a3e9c857d48f button.colab-df-convert');\n",
              "        buttonEl.style.display =\n",
              "          google.colab.kernel.accessAllowed ? 'block' : 'none';\n",
              "\n",
              "        async function convertToInteractive(key) {\n",
              "          const element = document.querySelector('#df-eb7bfdc9-dad5-42d7-b36f-a3e9c857d48f');\n",
              "          const dataTable =\n",
              "            await google.colab.kernel.invokeFunction('convertToInteractive',\n",
              "                                                     [key], {});\n",
              "          if (!dataTable) return;\n",
              "\n",
              "          const docLinkHtml = 'Like what you see? Visit the ' +\n",
              "            '<a target=\"_blank\" href=https://colab.research.google.com/notebooks/data_table.ipynb>data table notebook</a>'\n",
              "            + ' to learn more about interactive tables.';\n",
              "          element.innerHTML = '';\n",
              "          dataTable['output_type'] = 'display_data';\n",
              "          await google.colab.output.renderOutput(dataTable, element);\n",
              "          const docLink = document.createElement('div');\n",
              "          docLink.innerHTML = docLinkHtml;\n",
              "          element.appendChild(docLink);\n",
              "        }\n",
              "      </script>\n",
              "    </div>\n",
              "  </div>\n",
              "  "
            ]
          },
          "metadata": {},
          "execution_count": 12
        }
      ]
    },
    {
      "cell_type": "markdown",
      "source": [
        "CREATING NEW COLUMNS OF LATITUDE AND LONGITUDE\n"
      ],
      "metadata": {
        "id": "1KQC5KRka6tE"
      }
    },
    {
      "cell_type": "code",
      "source": [
        "df['Raw_Review']= df['Raw_Review'].apply(literal_eval)\n",
        "df['new_lat_long']=df['new_lat_long'].apply(literal_eval)\n",
        "lat=[]\n",
        "longi=[]\n",
        "for i in range(df.shape[0]):\n",
        "  a=df.iloc[i]['new_lat_long']\n",
        "  lat.append(a[0])\n",
        "  longi.append(a[1])\n",
        "\n",
        "df['Latitude']=lat\n",
        "df['Longitude']=longi"
      ],
      "metadata": {
        "id": "EOF92LcrM8EB"
      },
      "execution_count": null,
      "outputs": []
    },
    {
      "cell_type": "markdown",
      "source": [
        "CREATING VOCAB "
      ],
      "metadata": {
        "id": "Tf9sb6MsbLAj"
      }
    },
    {
      "cell_type": "code",
      "source": [
        "vocab = []\n",
        "for i, j in df.iterrows():\n",
        "  tokens = set(df['Raw_Review'][i])\n",
        "  for token in tokens:\n",
        "    if token not in vocab:\n",
        "      vocab.append(token)"
      ],
      "metadata": {
        "id": "RNtSb8Q5uZLE"
      },
      "execution_count": null,
      "outputs": []
    },
    {
      "cell_type": "markdown",
      "source": [
        "VOCAB LENGTH "
      ],
      "metadata": {
        "id": "m3K6sXKDbN0q"
      }
    },
    {
      "cell_type": "code",
      "source": [
        "len(vocab)"
      ],
      "metadata": {
        "id": "IWEydTmDuetU",
        "colab": {
          "base_uri": "https://localhost:8080/"
        },
        "outputId": "4e7cb704-08f6-4b5a-dffe-8fd96b0181cd"
      },
      "execution_count": null,
      "outputs": [
        {
          "output_type": "execute_result",
          "data": {
            "text/plain": [
              "19729"
            ]
          },
          "metadata": {},
          "execution_count": 15
        }
      ]
    },
    {
      "cell_type": "markdown",
      "source": [
        "VOCAB SAVE"
      ],
      "metadata": {
        "id": "yd1sc4JWbUOL"
      }
    },
    {
      "cell_type": "code",
      "source": [
        "np.save(\"/content/drive/MyDrive/IR_Project_Shared/vocab1\", vocab)"
      ],
      "metadata": {
        "id": "fKwb7iSkuoKN"
      },
      "execution_count": null,
      "outputs": []
    },
    {
      "cell_type": "code",
      "source": [
        "vc=np.save(\"/content/drive/MyDrive/IR_Project_Shared/vocab1\", vocab)"
      ],
      "metadata": {
        "id": "QXxMFe6QurxJ"
      },
      "execution_count": null,
      "outputs": []
    },
    {
      "cell_type": "code",
      "source": [
        "nlp= spacy.load(\"en_core_web_trf\")\n",
        "nlp.pipe_names"
      ],
      "metadata": {
        "id": "PUsvhGrV5e_2",
        "colab": {
          "base_uri": "https://localhost:8080/"
        },
        "outputId": "b0120b71-036b-401c-9b4d-d7ae970853ca"
      },
      "execution_count": null,
      "outputs": [
        {
          "output_type": "execute_result",
          "data": {
            "text/plain": [
              "['transformer', 'tagger', 'parser', 'attribute_ruler', 'lemmatizer', 'ner']"
            ]
          },
          "metadata": {},
          "execution_count": 18
        }
      ]
    },
    {
      "cell_type": "markdown",
      "source": [
        "Query processing +JC"
      ],
      "metadata": {
        "id": "iMWjxEhseLS0"
      }
    },
    {
      "cell_type": "code",
      "source": [
        "def make_query(query,city):\n",
        "  query_x = query.replace(\"\\n\", \" \") #replace newlines with spaces\n",
        "  query_x = query_x.replace(\"\\t\", \" \") #replace tab indents with spaces\n",
        "  query_x = re.sub(r\"http\\S+\", \"\", str(query_x)) #remove URLs\n",
        "  query_x = BeautifulSoup(query_x, \"lxml\").get_text() #remove tags\n",
        "  query_x = re.sub(\"\\S*\\d\\S*\", \"\", str(query_x)).strip() #remove words with numbers\n",
        "  query_x = re.sub(r\"n\\'t\", \" not\", str(query_x)) #replace n't with not\n",
        "  query_x = re.sub(r\"\\'re\", \" are\", str(query_x)) #replace 're with are\n",
        "  query_x = re.sub(r\"\\'s\", \" is\", str(query_x)) #replace 's' with is\n",
        "  query_x = re.sub(r\"\\'ll\", \" will\", str(query_x)) #replace 'll with will\n",
        "  query_x = re.sub(r\"\\'d\", \" would\", str(query_x)) #replace 'd' with would\n",
        "  query_x = re.sub(r\"\\'ve\", \" have\", str(query_x)) #replace 've with have\n",
        "  query_x = re.sub(r\"\\'m\", \" am\", str(query_x)) #replace 'm with am\n",
        "  query_x = re.sub(\"[^A-Za-z0-9]+\", \" \", str(query_x)) #replace punctuations and special characters with spaces\n",
        "\n",
        "  #remove stopwords and convert words to lowercase\n",
        "  query_x = ' '.join(worD.lower() for worD in query_x.split() if worD.lower() not in stopwords)\n",
        "\n",
        "  #tokenize preprocessed query\n",
        "  tokenized_query = word_tokenize(query_x)\n",
        "\n",
        "  #return if there's only one token or no tokens at all\n",
        "  if len(tokenized_query) <= 0:\n",
        "      print(\"No tokens are alive after preprocessing!\")\n",
        "\n",
        "  #print preprocessed query\n",
        "\n",
        "  tokenized_query = set(tokenized_query)\n",
        "  import spacy\n",
        "\n",
        "# Load English tokenizer, tagger, parser and NER \n",
        "#POS tagging to remove verbs from query for better filteration\n",
        "  nlp = spacy.load(\"en_core_web_trf\")\n",
        "\n",
        "  text = (query)\n",
        "  doc = nlp(text)\n",
        "  final_tokenized_query=[]\n",
        "  verb= [token.text for token in doc if token.pos_ == \"VERB\"]\n",
        "  for i in tokenized_query:\n",
        "    if i not in verb:\n",
        "      final_tokenized_query.append(i)\n",
        "  # print(len(final_tokenized_query))\n",
        " \n",
        "\n",
        "  #Implementing Jaccard Coefficient\n",
        "  jc=[]\n",
        "  df1=df[df['City']==city]\n",
        "  for i, j in df1.iterrows():\n",
        "    pair = []\n",
        "    mjc = len(set(j['Raw_Review']) & set(final_tokenized_query)) / len(set(j['Raw_Review']) | set(final_tokenized_query))\n",
        "    if mjc != 0:\n",
        "      pair.append(mjc)\n",
        "      pair.append(i)\n",
        "      jc.append(pair)\n",
        "  sorter = lambda x: (x[0], x[1])\n",
        "  sorted_jc = sorted(jc, key=sorter, reverse=True)\n",
        "  ans_places=[]\n",
        "    #Returning places \n",
        "  # print(len(sorted_jc))\n",
        "  if(len(sorted_jc)>=3):\n",
        "    for i in range(min(25,len(sorted_jc))):\n",
        "      ans_places.append([df1['Place'][sorted_jc[i][1]], df1['City'][sorted_jc[i][1]]])\n",
        "  return ans_places, final_tokenized_query"
      ],
      "metadata": {
        "id": "gE88xFh8uwpc"
      },
      "execution_count": null,
      "outputs": []
    },
    {
      "cell_type": "markdown",
      "source": [
        "Input query"
      ],
      "metadata": {
        "id": "kIcJKn4OeSXT"
      }
    },
    {
      "cell_type": "code",
      "source": [
        "query=\" I want to visit parks or park\"\n",
        "city=\"New Delhi\"\n",
        "ans_places,final_tokenised_q=make_query(query,city)\n",
        "print(ans_places)\n",
        "print(final_tokenised_q)"
      ],
      "metadata": {
        "id": "AmuXeA9BvCQk",
        "colab": {
          "base_uri": "https://localhost:8080/"
        },
        "outputId": "cedf6325-c43f-484c-93a2-56e488de2f9f"
      },
      "execution_count": null,
      "outputs": [
        {
          "output_type": "stream",
          "name": "stderr",
          "text": [
            "/usr/local/lib/python3.7/dist-packages/torch/autocast_mode.py:141: UserWarning: User provided device_type of 'cuda', but CUDA is not available. Disabling\n",
            "  warnings.warn('User provided device_type of \\'cuda\\', but CUDA is not available. Disabling')\n"
          ]
        },
        {
          "output_type": "stream",
          "name": "stdout",
          "text": [
            "[[\"National Children's Museum\", 'New Delhi'], ['Tomb of Balban', 'New Delhi'], ['Delhi University Sports Complex', 'New Delhi'], ['Swarn Jayanti Park', 'New Delhi'], ['Delhi Rides', 'New Delhi'], ['Mutiny Memorial', 'New Delhi'], ['Millennium Park', 'New Delhi'], ['Ajmeri Gate', 'New Delhi'], ['Major Dhyan Chand National Stadium', 'New Delhi'], ['Waste to Wonder Park', 'New Delhi'], ['Waste to Wonders', 'New Delhi'], [\"Fun 'n' Food Village\", 'New Delhi'], ['Rajon Ki Baoli', 'New Delhi'], ['Talkatora Garden', 'New Delhi'], ['Chittaranjan Park Kali Mandir', 'New Delhi'], ['Pragati Maidan', 'New Delhi'], ['Hauz Khas District Park', 'New Delhi'], ['Buddha Jayanti Park', 'New Delhi'], ['Nehru Park', 'New Delhi'], ['Deer Park', 'New Delhi'], ['Metro Walk Mall', 'New Delhi'], ['Adventure Island', 'New Delhi'], ['Sunder Nursery', 'New Delhi'], ['National Zoological Park of Delhi', 'New Delhi'], [\"Children's Park\", 'New Delhi']]\n",
            "['parks', 'park']\n"
          ]
        }
      ]
    },
    {
      "cell_type": "markdown",
      "source": [
        "Implementing K means for different no of days"
      ],
      "metadata": {
        "id": "Eb-WQTJB-WDH"
      }
    },
    {
      "cell_type": "code",
      "source": [
        "type(ans_places)"
      ],
      "metadata": {
        "id": "UDBDOzb1wO7_",
        "colab": {
          "base_uri": "https://localhost:8080/"
        },
        "outputId": "30d9de9f-3993-4d2e-ae21-5fa0e34b4cc3"
      },
      "execution_count": null,
      "outputs": [
        {
          "output_type": "execute_result",
          "data": {
            "text/plain": [
              "list"
            ]
          },
          "metadata": {},
          "execution_count": 21
        }
      ]
    },
    {
      "cell_type": "code",
      "source": [
        "df_val=df['new_lat_long']\n",
        "df_val"
      ],
      "metadata": {
        "id": "f4XTNeSoBfPl",
        "colab": {
          "base_uri": "https://localhost:8080/"
        },
        "outputId": "02d69096-a717-49fc-b387-4df0bf32fc49"
      },
      "execution_count": null,
      "outputs": [
        {
          "output_type": "execute_result",
          "data": {
            "text/plain": [
              "0              [28.5658122, 77.2468466]\n",
              "1       [19.0964017, 72.86293309999999]\n",
              "2              [19.1714434, 72.8725018]\n",
              "3       [19.1503904, 72.87426783008218]\n",
              "4               [28.7251351, 77.113468]\n",
              "                     ...               \n",
              "338    [19.02374855, 72.81683615091026]\n",
              "339             [19.005448, 72.8137566]\n",
              "340            [28.6635553, 77.3116132]\n",
              "341            [28.5252513, 77.1827064]\n",
              "342            [28.5190499, 77.1797279]\n",
              "Name: new_lat_long, Length: 343, dtype: object"
            ]
          },
          "metadata": {},
          "execution_count": 22
        }
      ]
    },
    {
      "cell_type": "markdown",
      "source": [
        "Filtered places based on user query"
      ],
      "metadata": {
        "id": "MrexnGDxK2YH"
      }
    },
    {
      "cell_type": "code",
      "source": [
        "ans_placesc = [x[0] for x in ans_places]\n",
        "ans_df=df[df['Place'].isin(ans_placesc)]\n",
        "# ans_df\n",
        "ans_df=ans_df[ans_df['City']==city]\n",
        "ans_df.shape"
      ],
      "metadata": {
        "id": "9I-IOCDB5dtx",
        "colab": {
          "base_uri": "https://localhost:8080/"
        },
        "outputId": "7cc1959f-21a4-4d15-d31d-8509ba6a4919"
      },
      "execution_count": null,
      "outputs": [
        {
          "output_type": "execute_result",
          "data": {
            "text/plain": [
              "(25, 7)"
            ]
          },
          "metadata": {},
          "execution_count": 23
        }
      ]
    },
    {
      "cell_type": "markdown",
      "source": [
        "KMeans"
      ],
      "metadata": {
        "id": "ZVd9MlQMe_GL"
      }
    },
    {
      "cell_type": "code",
      "source": [
        "from sklearn.cluster import KMeans\n",
        "import numpy as np\n",
        "obj=KMeans()\n",
        "if(len(ans_places)<4):\n",
        " n_c=len(ans_places)\n",
        "else:\n",
        "  n_c=4\n",
        "kmeans = KMeans(random_state=0,n_clusters=n_c).fit(ans_df[['Latitude','Longitude']])\n",
        "kmeans.labels_"
      ],
      "metadata": {
        "id": "QG0Zr9Ea73-e",
        "colab": {
          "base_uri": "https://localhost:8080/"
        },
        "outputId": "a3482c1d-3bab-46bd-9e07-64521fe2f6f0"
      },
      "execution_count": null,
      "outputs": [
        {
          "output_type": "execute_result",
          "data": {
            "text/plain": [
              "array([0, 2, 2, 3, 1, 3, 1, 2, 3, 3, 2, 0, 1, 2, 2, 1, 3, 2, 3, 1, 3, 2,\n",
              "       3, 1, 1], dtype=int32)"
            ]
          },
          "metadata": {},
          "execution_count": 24
        }
      ]
    },
    {
      "cell_type": "markdown",
      "source": [
        "Scatter plot"
      ],
      "metadata": {
        "id": "UGvg-vTrfHWB"
      }
    },
    {
      "cell_type": "code",
      "source": [
        "import matplotlib.pyplot as plt\n",
        "colour=['brown','cyan','yellow','red']\n",
        "# print(x_tsne.shape)\n",
        "\n",
        "cluster_no=[0,1,2,3]\n",
        "label=['cluster 0','cluster 1','cluster 2','cluster 3']\n",
        "\n",
        "for i in range(4):\n",
        "  list_c=np.where(kmeans.labels_==i)\n",
        "  X_tr=ans_df.iloc[list_c]\n",
        "  \n",
        "  plt.figure(1, figsize=(9,6),)\n",
        "  plt.scatter(X_tr['Latitude'], X_tr['Longitude'],c=colour[i],label=label[i],s=100, edgecolors='black',alpha=0.4)\n",
        "  plt.legend()\n",
        "\n",
        "  plt.scatter(kmeans.cluster_centers_[i][0],kmeans.cluster_centers_[i][1],c='black',s=100)\n",
        "plt.xlabel(\"Component 1\")\n",
        "plt.ylabel(\"Component 2\")"
      ],
      "metadata": {
        "id": "zxT802YcSEgg",
        "colab": {
          "base_uri": "https://localhost:8080/",
          "height": 406
        },
        "outputId": "2842cef4-2f61-4c95-bec2-797d8be122cb"
      },
      "execution_count": null,
      "outputs": [
        {
          "output_type": "execute_result",
          "data": {
            "text/plain": [
              "Text(0, 0.5, 'Component 2')"
            ]
          },
          "metadata": {},
          "execution_count": 25
        },
        {
          "output_type": "display_data",
          "data": {
            "text/plain": [
              "<Figure size 648x432 with 1 Axes>"
            ],
            "image/png": "[encoded data removed]"
          },
          "metadata": {
            "needs_background": "light"
          }
        }
      ]
    },
    {
      "cell_type": "markdown",
      "source": [
        "DISTANCE BETWEEN CLUSTER CENTERS"
      ],
      "metadata": {
        "id": "kFNxGCq8fSaN"
      }
    },
    {
      "cell_type": "code",
      "source": [
        "!pip install python-tsp\n",
        "import numpy as np\n",
        "from python_tsp.exact import solve_tsp_dynamic_programming\n",
        "from scipy.spatial.distance import cdist\n",
        "arr=pd.DataFrame(kmeans.cluster_centers_)\n",
        "arr.shape\n",
        "\n",
        "distance_matrix = cdist(\n",
        "    arr.values, \n",
        "    arr.values,\n",
        ")\n",
        "distance_matrix\n",
        "\n",
        "permutation, distance = solve_tsp_dynamic_programming(distance_matrix)\n",
        "###permutation \n",
        "print(permutation)\n",
        "print(distance)"
      ],
      "metadata": {
        "id": "QKVzbPJgRQjP",
        "colab": {
          "base_uri": "https://localhost:8080/"
        },
        "outputId": "218630a6-b508-483d-f89f-04cf3a2ae39c"
      },
      "execution_count": null,
      "outputs": [
        {
          "output_type": "stream",
          "name": "stdout",
          "text": [
            "Collecting python-tsp\n",
            "  Downloading python_tsp-0.2.1-py3-none-any.whl (14 kB)\n",
            "Requirement already satisfied: numpy<2.0.0,>=1.18.5 in /usr/local/lib/python3.7/dist-packages (from python-tsp) (1.21.5)\n",
            "Collecting tsplib95<0.8.0,>=0.7.1\n",
            "  Downloading tsplib95-0.7.1-py2.py3-none-any.whl (25 kB)\n",
            "Collecting Deprecated~=1.2.9\n",
            "  Downloading Deprecated-1.2.13-py2.py3-none-any.whl (9.6 kB)\n",
            "Requirement already satisfied: Click>=6.0 in /usr/local/lib/python3.7/dist-packages (from tsplib95<0.8.0,>=0.7.1->python-tsp) (7.1.2)\n",
            "Requirement already satisfied: tabulate~=0.8.7 in /usr/local/lib/python3.7/dist-packages (from tsplib95<0.8.0,>=0.7.1->python-tsp) (0.8.9)\n",
            "Requirement already satisfied: networkx~=2.1 in /usr/local/lib/python3.7/dist-packages (from tsplib95<0.8.0,>=0.7.1->python-tsp) (2.6.3)\n",
            "Requirement already satisfied: wrapt<2,>=1.10 in /usr/local/lib/python3.7/dist-packages (from Deprecated~=1.2.9->tsplib95<0.8.0,>=0.7.1->python-tsp) (1.14.0)\n",
            "Installing collected packages: Deprecated, tsplib95, python-tsp\n",
            "Successfully installed Deprecated-1.2.13 python-tsp-0.2.1 tsplib95-0.7.1\n",
            "[0, 2, 1, 3]\n",
            "0.4878817805833582\n"
          ]
        }
      ]
    },
    {
      "cell_type": "markdown",
      "source": [
        "HESEVIR DISTANCE "
      ],
      "metadata": {
        "id": "Arfw6FYJc4QS"
      }
    },
    {
      "cell_type": "code",
      "source": [
        "# donot consider it\n",
        "# import geopy.distance\n",
        "# distance_matrix =np.zeros((4,4))\n",
        "# for i in range(len(arr)):\n",
        "#   for j in range(len(arr)):\n",
        "\n",
        "#     distance_matrix[i][j] = geopy.distance.geodesic(arr.iloc[i], arr.iloc[j]).km\n",
        "# # print geopy.distance.geodesic(coords_1, coords_2).km"
      ],
      "metadata": {
        "id": "Pp3Dfo7PMh_H"
      },
      "execution_count": null,
      "outputs": []
    },
    {
      "cell_type": "code",
      "source": [
        "# distance_matrix\n"
      ],
      "metadata": {
        "id": "dVgBGgjeN9CZ"
      },
      "execution_count": null,
      "outputs": []
    },
    {
      "cell_type": "markdown",
      "source": [
        "Printing Day-Wise Plan"
      ],
      "metadata": {
        "id": "JdiKUUumJuda"
      }
    },
    {
      "cell_type": "code",
      "source": [
        "counter=1\n",
        "for i in permutation:\n",
        "  list_c=np.where(kmeans.labels_==i)\n",
        "  # print(list_c)\n",
        "  X_tr=ans_df.iloc[list_c]\n",
        "  print(\"Travel locations for day\",counter)\n",
        "  print(X_tr['Place'].to_numpy())\n",
        "  counter=counter+1"
      ],
      "metadata": {
        "id": "64kvARv2H2W6",
        "colab": {
          "base_uri": "https://localhost:8080/"
        },
        "outputId": "7940c9e5-dea0-4f28-d05e-edba4a059b29"
      },
      "execution_count": null,
      "outputs": [
        {
          "output_type": "stream",
          "name": "stdout",
          "text": [
            "Travel locations for day 1\n",
            "['Adventure Island' 'Metro Walk Mall']\n",
            "Travel locations for day 2\n",
            "['Ajmeri Gate' 'Buddha Jayanti Park' 'Delhi University Sports Complex'\n",
            " 'Major Dhyan Chand National Stadium' 'Mutiny Memorial'\n",
            " \"National Children's Museum\" 'Pragati Maidan' 'Talkatora Garden']\n",
            "Travel locations for day 3\n",
            "['Chittaranjan Park Kali Mandir' 'Delhi Rides' 'Millennium Park'\n",
            " 'National Zoological Park of Delhi' 'Sunder Nursery'\n",
            " 'Waste to Wonder Park' 'Waste to Wonders']\n",
            "Travel locations for day 4\n",
            "[\"Children's Park\" 'Deer Park' \"Fun 'n' Food Village\"\n",
            " 'Hauz Khas District Park' 'Nehru Park' 'Rajon Ki Baoli'\n",
            " 'Swarn Jayanti Park' 'Tomb of Balban']\n"
          ]
        }
      ]
    },
    {
      "cell_type": "markdown",
      "source": [
        "TF-IDF"
      ],
      "metadata": {
        "id": "MBJFHVj-gRZe"
      }
    },
    {
      "cell_type": "code",
      "source": [
        "index = {}\n",
        "for i, j in df.iterrows():\n",
        "  tokens = df['Raw_Review'][i]\n",
        "  for token in tokens:\n",
        "    if token not in index:\n",
        "      index[token]={'doc_freq':0}"
      ],
      "metadata": {
        "id": "zcPRueIcgTts"
      },
      "execution_count": null,
      "outputs": []
    },
    {
      "cell_type": "code",
      "source": [
        "for i, j in df.iterrows():\n",
        "  tokens = set(df['Raw_Review'][i])\n",
        "  for token in tokens:\n",
        "    index[token]['doc_freq']+=1"
      ],
      "metadata": {
        "id": "MKkqCi3miIbc"
      },
      "execution_count": null,
      "outputs": []
    },
    {
      "cell_type": "code",
      "source": [
        "total_documents = df.shape[0]"
      ],
      "metadata": {
        "id": "C5FGMJJGiJMf"
      },
      "execution_count": null,
      "outputs": []
    },
    {
      "cell_type": "markdown",
      "source": [
        "TFIDF FOR DIFFERENT SCHEMES FOR 5 DIFFERENT SCHEMES"
      ],
      "metadata": {
        "id": "bo4SDT3cdAx0"
      }
    },
    {
      "cell_type": "code",
      "source": [
        "def TFIDF_MATRIX(corpus, weighting):\n",
        "  tf_idf_matrix = []\n",
        "  for tokens in corpus:\n",
        "    matrix = []\n",
        "    counts = Counter(tokens)\n",
        "    for token in vocab:\n",
        "      if weighting ==1:\n",
        "        if counts[token]>0:\n",
        "          TF=1\n",
        "        else:\n",
        "          TF=0\n",
        "      elif weighting==2:\n",
        "        # if counts[token]>0:\n",
        "        TF = counts[token]\n",
        "        # else:\n",
        "        #   TF=0\n",
        "      elif weighting==3:\n",
        "        TF = counts[token]/len(tokens)\n",
        "      elif weighting==4:\n",
        "        TF = math.log(counts[token]+1)\n",
        "      else:\n",
        "        max = counts.most_common(1)[0][1]\n",
        "        TF = 0.5 + (0.5 * (counts[token]/max))\n",
        "      IDF = np.log(total_documents/(index[token]['doc_freq']+1))\n",
        "      matrix.append(TF*IDF)\n",
        "    tf_idf_matrix.append(matrix)\n",
        "  return tf_idf_matrix"
      ],
      "metadata": {
        "id": "gGnk5VP7jJ7X"
      },
      "execution_count": null,
      "outputs": []
    },
    {
      "cell_type": "code",
      "source": [
        "tfidf_matrix1 = TFIDF_MATRIX(df['Raw_Review'],1)\n",
        "tfidf_matrix2 = TFIDF_MATRIX(df['Raw_Review'],2)\n",
        "tfidf_matrix3 = TFIDF_MATRIX(df['Raw_Review'],3)\n",
        "tfidf_matrix4 = TFIDF_MATRIX(df['Raw_Review'],4)\n",
        "tfidf_matrix5 = TFIDF_MATRIX(df['Raw_Review'],5)"
      ],
      "metadata": {
        "id": "OmDUwHS5ixPv"
      },
      "execution_count": null,
      "outputs": []
    },
    {
      "cell_type": "code",
      "source": [
        "# np.save(\"/content/drive/MyDrive/IR_Project_Shared/Model/tfidf_matrix1\", tfidf_matrix1)\n",
        "# np.save(\"/content/drive/MyDrive/IR_Project_Shared/Model/tfidf_matrix2\", tfidf_matrix2)\n",
        "# np.save(\"/content/drive/MyDrive/IR_Project_Shared/Model/tfidf_matrix3\", tfidf_matrix3)\n",
        "# np.save(\"/content/drive/MyDrive/IR_Project_Shared/Model/tfidf_matrix4\", tfidf_matrix4)\n",
        "# np.save(\"/content/drive/MyDrive/IR_Project_Shared/Model/tfidf_matrix5\", tfidf_matrix5)"
      ],
      "metadata": {
        "id": "ccUJf-DYgkSN"
      },
      "execution_count": null,
      "outputs": []
    },
    {
      "cell_type": "code",
      "source": [
        "# np.save(\"tfidf_matrix\", tfidf_matrix)"
      ],
      "metadata": {
        "id": "r7iNep6Slbtp"
      },
      "execution_count": null,
      "outputs": []
    },
    {
      "cell_type": "code",
      "source": [
        "# tfidf_matrix = np.load('tfidf_matrix.npy')"
      ],
      "metadata": {
        "id": "tvyuip4al5A8"
      },
      "execution_count": null,
      "outputs": []
    },
    {
      "cell_type": "markdown",
      "source": [
        "cosine SIMILARITY FOR CALCULATING SCORE"
      ],
      "metadata": {
        "id": "A3UQxXTkdkes"
      }
    },
    {
      "cell_type": "code",
      "source": [
        "def similarity(d2,tfidf_matrix):\n",
        "  res =[]\n",
        "  for i in range(len(tfidf_matrix)):\n",
        "    dot = np.dot(d2,tfidf_matrix[i])\n",
        "    b = np.power(tfidf_matrix[i],2)\n",
        "    c= np.power(d2,2)\n",
        "    moda = np.sqrt(np.sum(b))\n",
        "    modb =np.sqrt(np.sum(c))\n",
        "    result = dot/(moda*modb)\n",
        "    res.append([i,result])\n",
        "  return res"
      ],
      "metadata": {
        "id": "ex5Y1m6_l9Iz"
      },
      "execution_count": null,
      "outputs": []
    },
    {
      "cell_type": "markdown",
      "source": [
        "QUERY PROCESSING"
      ],
      "metadata": {
        "id": "Uoz7AQ4NdwAj"
      }
    },
    {
      "cell_type": "code",
      "source": [
        "def make_querytfidf(query,city):\n",
        "  query_x = query.replace(\"\\n\", \" \") #replace newlines with spaces\n",
        "  query_x = query_x.replace(\"\\t\", \" \") #replace tab indents with spaces\n",
        "  query_x = re.sub(r\"http\\S+\", \"\", str(query_x)) #remove URLs\n",
        "#   query_x = BeautifulSoup(query_x, \"lxml\").get_text() #remove tags\n",
        "  query_x = re.sub(\"\\S*\\d\\S*\", \"\", str(query_x)).strip() #remove words with numbers\n",
        "  query_x = re.sub(r\"n\\'t\", \" not\", str(query_x)) #replace n't with not\n",
        "  query_x = re.sub(r\"\\'re\", \" are\", str(query_x)) #replace 're with are\n",
        "  query_x = re.sub(r\"\\'s\", \" is\", str(query_x)) #replace 's' with is\n",
        "  query_x = re.sub(r\"\\'ll\", \" will\", str(query_x)) #replace 'll with will\n",
        "  query_x = re.sub(r\"\\'d\", \" would\", str(query_x)) #repl ace 'd' with would\n",
        "  query_x = re.sub(r\"\\'ve\", \" have\", str(query_x)) #replace 've with have\n",
        "  query_x = re.sub(r\"\\'m\", \" am\", str(query_x)) #replace 'm with am\n",
        "  query_x = re.sub(\"[^A-Za-z0-9]+\", \" \", str(query_x)) #replace punctuations and special characters with spaces\n",
        "\n",
        "  #remove stopwords and convert words to lowercase\n",
        "  \n",
        "  query_x = ' '.join(worD.lower() for worD in query_x.split() if worD.lower() not in stopwords)\n",
        "\n",
        "  #tokenize preprocessed query\n",
        "  tokenized_query = word_tokenize(query_x)\n",
        "  \n",
        "\n",
        "  ### Removing verbs from query for better filtering\n",
        "  import spacy\n",
        "  nlp = spacy.load(\"en_core_web_trf\")\n",
        "  text = (query)\n",
        "  doc = nlp(text)\n",
        "  final_tokenized_query=[]\n",
        "  verb= [token.text for token in doc if token.pos_ == \"VERB\"]\n",
        "  for i in tokenized_query:\n",
        "    if i not in verb:\n",
        "      final_tokenized_query.append(i)\n",
        "\n",
        "\n",
        "  matrix1 = TFIDF_MATRIX([final_tokenized_query],1)\n",
        "  matrix2 = TFIDF_MATRIX([final_tokenized_query],2)\n",
        "  matrix3 = TFIDF_MATRIX([final_tokenized_query],3)\n",
        "  matrix4 = TFIDF_MATRIX([final_tokenized_query],4)\n",
        "  matrix5 = TFIDF_MATRIX([final_tokenized_query],5)\n",
        "\n",
        "  result1 = sorted(similarity(matrix1, tfidf_matrix1),key=lambda x: x[1],reverse=True)\n",
        "  result2 = sorted(similarity(matrix2, tfidf_matrix2),key=lambda x: x[1], reverse=True)\n",
        "  result3 = sorted(similarity(matrix3, tfidf_matrix3),key=lambda x: x[1], reverse=True)\n",
        "  result4 = sorted(similarity(matrix4, tfidf_matrix4),key=lambda x: x[1], reverse=True)\n",
        "  result5 = sorted(similarity(matrix5, tfidf_matrix5),key=lambda x: x[1], reverse=True)\n",
        "   \n",
        "  #Weighing Scheme 1\n",
        "  ans_tfidf1=[]\n",
        "  for j in range(25):\n",
        "    if df.iloc[result1[j][0]]['City']==city:\n",
        "      ans_tfidf1.append([df.iloc[result1[j][0]]['Place'], df.iloc[result1[j][0]]['City']])\n",
        "\n",
        "\n",
        "  # Weighting Scheme 2\n",
        "  ans_tfidf2=[]\n",
        "  for j in range(25):\n",
        "    if df.iloc[result2[j][0]]['City']==city:\n",
        "      ans_tfidf2.append([df.iloc[result2[j][0]]['Place'], df.iloc[result2[j][0]]['City']])\n",
        "\n",
        "  # Weighting Scheme 3\n",
        "  ans_tfidf3=[]\n",
        "  for j in range(25):\n",
        "    if df.iloc[result3[j][0]]['City']==city:\n",
        "      ans_tfidf3.append([df.iloc[result3[j][0]]['Place'], df.iloc[result3[j][0]]['City']])\n",
        "\n",
        "  # Weighting Scheme 4\n",
        "  ans_tfidf4=[]\n",
        "  for j in range(25):\n",
        "    if df.iloc[result4[j][0]]['City']==city:\n",
        "      ans_tfidf4.append([df.iloc[result4[j][0]]['Place'], df.iloc[result4[j][0]]['City']])\n",
        "\n",
        "  # Weighting Scheme 5\n",
        "  ans_tfidf5=[]\n",
        "  for j in range(25):\n",
        "    if df.iloc[result5[j][0]]['City']==city:\n",
        "      ans_tfidf5.append([df.iloc[result5[j][0]]['Place'], df.iloc[result5[j][0]]['City']])\n",
        "\n",
        "  return ans_tfidf1,ans_tfidf2,ans_tfidf3,ans_tfidf4,ans_tfidf5"
      ],
      "metadata": {
        "id": "OAyxER3KmMVA"
      },
      "execution_count": null,
      "outputs": []
    },
    {
      "cell_type": "code",
      "source": [
        "city=\"Mumbai\"\n",
        "ans_tfidf1,ans_tfidf2,ans_tfidf3,ans_tfidf4,ans_tfidf5=make_querytfidf(\"I am planning to go on holiday to mumbai for a week, i am looking for visiting historical places and malls\",city)"
      ],
      "metadata": {
        "id": "eUQtJohypLEH",
        "colab": {
          "base_uri": "https://localhost:8080/"
        },
        "outputId": "03df7cc2-3a16-470a-caaf-f5163e5eef04"
      },
      "execution_count": null,
      "outputs": [
        {
          "output_type": "stream",
          "name": "stderr",
          "text": [
            "/usr/local/lib/python3.7/dist-packages/torch/autocast_mode.py:141: UserWarning: User provided device_type of 'cuda', but CUDA is not available. Disabling\n",
            "  warnings.warn('User provided device_type of \\'cuda\\', but CUDA is not available. Disabling')\n"
          ]
        }
      ]
    },
    {
      "cell_type": "markdown",
      "source": [
        "RESULTS OF DIFFERENT SCHEMES OF TF-IDF"
      ],
      "metadata": {
        "id": "K8W8A-VZercz"
      }
    },
    {
      "cell_type": "code",
      "source": [
        "print(\"Weighing Scheme1\",ans_tfidf1)\n",
        "print(\"Weighing Scheme2\",ans_tfidf2)\n",
        "print(\"Weighing Scheme3\",ans_tfidf3)\n",
        "print(\"Weighing Scheme4\",ans_tfidf4)\n",
        "print(\"Weighing Scheme5\",ans_tfidf5)"
      ],
      "metadata": {
        "id": "eF_IwC2dpui4",
        "colab": {
          "base_uri": "https://localhost:8080/"
        },
        "outputId": "928f090b-b20e-462f-9e02-66dfdaf597f3"
      },
      "execution_count": null,
      "outputs": [
        {
          "output_type": "stream",
          "name": "stdout",
          "text": [
            "Weighing Scheme1 [['Prime Mall', 'Mumbai'], ['Link Square Mall', 'Mumbai'], ['R Odeon Mall', 'Mumbai'], ['Dynamix Mall', 'Mumbai'], ['Juhu', 'Mumbai'], ['Nirmal Lifestyle Mall', 'Mumbai'], ['Chor Bazaar', 'Mumbai'], ['Inorbit Mall', 'Mumbai'], ['Madh Island', 'Mumbai'], ['K Star Mall', 'Mumbai'], ['Atria Mall', 'Mumbai'], ['Ballard Estate', 'Mumbai'], ['Gorai Beach', 'Mumbai'], ['Malabar Hill', 'Mumbai'], ['High Street Phoenix', 'Mumbai']]\n",
            "Weighing Scheme2 [['Prime Mall', 'Mumbai'], ['Link Square Mall', 'Mumbai'], ['R Odeon Mall', 'Mumbai'], ['Dynamix Mall', 'Mumbai'], ['Juhu', 'Mumbai'], ['Nirmal Lifestyle Mall', 'Mumbai'], ['Chor Bazaar', 'Mumbai'], ['Inorbit Mall', 'Mumbai'], ['Madh Island', 'Mumbai'], ['K Star Mall', 'Mumbai'], ['Atria Mall', 'Mumbai'], ['Ballard Estate', 'Mumbai'], ['Gorai Beach', 'Mumbai'], ['Malabar Hill', 'Mumbai'], ['High Street Phoenix', 'Mumbai']]\n",
            "Weighing Scheme3 [['Prime Mall', 'Mumbai'], ['Link Square Mall', 'Mumbai'], ['R Odeon Mall', 'Mumbai'], ['Dynamix Mall', 'Mumbai'], ['Juhu', 'Mumbai'], ['Nirmal Lifestyle Mall', 'Mumbai'], ['Chor Bazaar', 'Mumbai'], ['Inorbit Mall', 'Mumbai'], ['Madh Island', 'Mumbai'], ['K Star Mall', 'Mumbai'], ['Atria Mall', 'Mumbai'], ['Ballard Estate', 'Mumbai'], ['Gorai Beach', 'Mumbai'], ['Malabar Hill', 'Mumbai'], ['High Street Phoenix', 'Mumbai']]\n",
            "Weighing Scheme4 [['Prime Mall', 'Mumbai'], ['Link Square Mall', 'Mumbai'], ['R Odeon Mall', 'Mumbai'], ['Dynamix Mall', 'Mumbai'], ['Juhu', 'Mumbai'], ['Nirmal Lifestyle Mall', 'Mumbai'], ['Chor Bazaar', 'Mumbai'], ['Inorbit Mall', 'Mumbai'], ['Madh Island', 'Mumbai'], ['K Star Mall', 'Mumbai'], ['Atria Mall', 'Mumbai'], ['Ballard Estate', 'Mumbai'], ['Gorai Beach', 'Mumbai'], ['Malabar Hill', 'Mumbai'], ['High Street Phoenix', 'Mumbai']]\n",
            "Weighing Scheme5 [['V Mall', 'Mumbai'], ['St Teresa Church', 'Mumbai'], ['Jio Garden', 'Mumbai'], ['Vihar Lake', 'Mumbai'], ['Mahim Fort', 'Mumbai'], ['Atomic Energy Junior College', 'Mumbai'], ['Link Square Mall', 'Mumbai'], ['Madh Fort', 'Mumbai'], ['Aarey Bhaskar Garden', 'Mumbai'], ['Orchid City Centre Mall', 'Mumbai'], ['Crossroads Mall', 'Mumbai'], ['Wadia Clock Tower', 'Mumbai']]\n"
          ]
        }
      ]
    },
    {
      "cell_type": "code",
      "source": [
        " len(ans_tfidf1)"
      ],
      "metadata": {
        "id": "ocU2mBP6xxKJ",
        "colab": {
          "base_uri": "https://localhost:8080/"
        },
        "outputId": "f3054408-3bff-449f-ec3f-4cec94104c0a"
      },
      "execution_count": null,
      "outputs": [
        {
          "output_type": "execute_result",
          "data": {
            "text/plain": [
              "15"
            ]
          },
          "metadata": {},
          "execution_count": 42
        }
      ]
    },
    {
      "cell_type": "markdown",
      "source": [
        "FILTERING OF ROWS FROM MAIN DATAFRAME"
      ],
      "metadata": {
        "id": "0p_sRxXUe9UV"
      }
    },
    {
      "cell_type": "code",
      "source": [
        "def rowfilter(ans_tf):\n",
        "  ans_tf_idf = [x[0] for x in ans_tf]\n",
        "  ans_df=df[df['Place'].isin(ans_tf_idf)]\n",
        "  # ans_df\n",
        "  ans_df=ans_df[ans_df['City']==city]\n",
        "  return ans_df"
      ],
      "metadata": {
        "id": "0Pb92NU9wkOy"
      },
      "execution_count": null,
      "outputs": []
    },
    {
      "cell_type": "code",
      "source": [
        "ans_df1=rowfilter(ans_tfidf1)\n",
        "ans_df2=rowfilter(ans_tfidf2)\n",
        "ans_df3=rowfilter(ans_tfidf3)\n",
        "ans_df4=rowfilter(ans_tfidf4)\n",
        "ans_df5=rowfilter(ans_tfidf5)"
      ],
      "metadata": {
        "id": "sgFG-_rox3JS"
      },
      "execution_count": null,
      "outputs": []
    },
    {
      "cell_type": "code",
      "source": [
        "print(ans_df1.shape)\n",
        "print(ans_df2.shape)\n",
        "print(ans_df3.shape)\n",
        "print(ans_df4.shape)\n",
        "print(ans_df5.shape)"
      ],
      "metadata": {
        "id": "ieXLSfU5zn_G",
        "colab": {
          "base_uri": "https://localhost:8080/"
        },
        "outputId": "a408d504-088e-41cc-8826-dace68b69887"
      },
      "execution_count": null,
      "outputs": [
        {
          "output_type": "stream",
          "name": "stdout",
          "text": [
            "(15, 7)\n",
            "(15, 7)\n",
            "(15, 7)\n",
            "(15, 7)\n",
            "(12, 7)\n"
          ]
        }
      ]
    },
    {
      "cell_type": "code",
      "source": [
        "from sklearn.cluster import KMeans\n",
        "import numpy as np"
      ],
      "metadata": {
        "id": "OCnomtAQzmxQ"
      },
      "execution_count": null,
      "outputs": []
    },
    {
      "cell_type": "markdown",
      "source": [
        "DISTANCE BETWEEN CLUSTER CENTERS"
      ],
      "metadata": {
        "id": "KmM9WNCjfHWo"
      }
    },
    {
      "cell_type": "code",
      "source": [
        "!pip install python-tsp\n",
        "import numpy as np\n",
        "from python_tsp.exact import solve_tsp_dynamic_programming\n",
        "from scipy.spatial.distance import cdist\n",
        "def tfidf_dist(ob):\n",
        "  arr=pd.DataFrame(ob.cluster_centers_)\n",
        "  arr.shape\n",
        "\n",
        "  distance_matrix = cdist(\n",
        "      arr.values, \n",
        "      arr.values,\n",
        "  )\n",
        "  distance_matrix\n",
        "\n",
        "  permutation, distance = solve_tsp_dynamic_programming(distance_matrix)\n",
        "  return permutation,distance"
      ],
      "metadata": {
        "id": "ferT_3GnVR6J",
        "colab": {
          "base_uri": "https://localhost:8080/"
        },
        "outputId": "9e2d2e4e-67e5-488b-c632-002c3c1c3221"
      },
      "execution_count": null,
      "outputs": [
        {
          "output_type": "stream",
          "name": "stdout",
          "text": [
            "Requirement already satisfied: python-tsp in /usr/local/lib/python3.7/dist-packages (0.2.1)\n",
            "Requirement already satisfied: numpy<2.0.0,>=1.18.5 in /usr/local/lib/python3.7/dist-packages (from python-tsp) (1.21.5)\n",
            "Requirement already satisfied: tsplib95<0.8.0,>=0.7.1 in /usr/local/lib/python3.7/dist-packages (from python-tsp) (0.7.1)\n",
            "Requirement already satisfied: tabulate~=0.8.7 in /usr/local/lib/python3.7/dist-packages (from tsplib95<0.8.0,>=0.7.1->python-tsp) (0.8.9)\n",
            "Requirement already satisfied: Click>=6.0 in /usr/local/lib/python3.7/dist-packages (from tsplib95<0.8.0,>=0.7.1->python-tsp) (7.1.2)\n",
            "Requirement already satisfied: Deprecated~=1.2.9 in /usr/local/lib/python3.7/dist-packages (from tsplib95<0.8.0,>=0.7.1->python-tsp) (1.2.13)\n",
            "Requirement already satisfied: networkx~=2.1 in /usr/local/lib/python3.7/dist-packages (from tsplib95<0.8.0,>=0.7.1->python-tsp) (2.6.3)\n",
            "Requirement already satisfied: wrapt<2,>=1.10 in /usr/local/lib/python3.7/dist-packages (from Deprecated~=1.2.9->tsplib95<0.8.0,>=0.7.1->python-tsp) (1.14.0)\n"
          ]
        }
      ]
    },
    {
      "cell_type": "markdown",
      "source": [
        "KMEANS ON DIFFERENT SCHEMES AND THEIR PLOT"
      ],
      "metadata": {
        "id": "oF__L4UZfbMk"
      }
    },
    {
      "cell_type": "code",
      "source": [
        "import matplotlib.pyplot as plt\n",
        "colour=['brown','cyan','yellow','red']\n",
        "# print(x_tsne.shape)\n",
        "\n",
        "cluster_no=[0,1,2,3]\n",
        "label=['cluster 0','cluster 1','cluster 2','cluster 3']\n",
        "arr_perm_tfidf=[]\n",
        "arr_dist_tfidf=[]\n",
        "kmeans_obj=[]\n",
        "def kmeans_plot(ans_final_df,j):\n",
        "  # plt.figure(1, figsize=(20,20),)\n",
        "  obj=KMeans()\n",
        "  kmeans = KMeans(random_state=0,n_clusters=4).fit(ans_final_df[['Latitude','Longitude']])\n",
        "  kmeans.labels_\n",
        "  kmeans_obj.append(kmeans.labels_)\n",
        "  per,dist=tfidf_dist(kmeans)\n",
        "  arr_perm_tfidf.append(per)\n",
        "  arr_dist_tfidf.append(dist)\n",
        "  for i in range(4):\n",
        "\n",
        "    list_c=np.where(kmeans.labels_==i)\n",
        "   \n",
        "    X_tr=ans_final_df.iloc[list_c]\n",
        "    plt.figure(1, figsize=(30,10),)\n",
        "    plt.subplot(2,3,j)\n",
        "   \n",
        "    plt.scatter(X_tr['Latitude'], X_tr['Longitude'],c=colour[i],label=label[i],s=100, edgecolors='black',alpha=0.4)\n",
        "    plt.legend()\n",
        "\n",
        "    plt.scatter(kmeans.cluster_centers_[i][0],kmeans.cluster_centers_[i][1],c='black',s=100)\n",
        "  plt.xlabel(\"Component 1\")\n",
        "  plt.ylabel(\"Component 2\")"
      ],
      "metadata": {
        "id": "uZmDlOjd0QZT"
      },
      "execution_count": null,
      "outputs": []
    },
    {
      "cell_type": "code",
      "source": [
        "kmeans_plot(ans_df1,1)\n",
        "kmeans_plot(ans_df2,2)\n",
        "kmeans_plot(ans_df3,3)\n",
        "kmeans_plot(ans_df4,4)\n",
        "kmeans_plot(ans_df5,5)"
      ],
      "metadata": {
        "id": "KJIqk4NSN-lQ",
        "colab": {
          "base_uri": "https://localhost:8080/",
          "height": 479
        },
        "outputId": "70046b5e-323c-46c1-d290-c47f1fd5c4d1"
      },
      "execution_count": null,
      "outputs": [
        {
          "output_type": "stream",
          "name": "stderr",
          "text": [
            "/usr/local/lib/python3.7/dist-packages/ipykernel_launcher.py:25: MatplotlibDeprecationWarning: Adding an axes using the same arguments as a previous axes currently reuses the earlier instance.  In a future version, a new instance will always be created and returned.  Meanwhile, this warning can be suppressed, and the future behavior ensured, by passing a unique label to each axes instance.\n",
            "/usr/local/lib/python3.7/dist-packages/ipykernel_launcher.py:25: MatplotlibDeprecationWarning: Adding an axes using the same arguments as a previous axes currently reuses the earlier instance.  In a future version, a new instance will always be created and returned.  Meanwhile, this warning can be suppressed, and the future behavior ensured, by passing a unique label to each axes instance.\n",
            "/usr/local/lib/python3.7/dist-packages/ipykernel_launcher.py:25: MatplotlibDeprecationWarning: Adding an axes using the same arguments as a previous axes currently reuses the earlier instance.  In a future version, a new instance will always be created and returned.  Meanwhile, this warning can be suppressed, and the future behavior ensured, by passing a unique label to each axes instance.\n",
            "/usr/local/lib/python3.7/dist-packages/ipykernel_launcher.py:25: MatplotlibDeprecationWarning: Adding an axes using the same arguments as a previous axes currently reuses the earlier instance.  In a future version, a new instance will always be created and returned.  Meanwhile, this warning can be suppressed, and the future behavior ensured, by passing a unique label to each axes instance.\n",
            "/usr/local/lib/python3.7/dist-packages/ipykernel_launcher.py:25: MatplotlibDeprecationWarning: Adding an axes using the same arguments as a previous axes currently reuses the earlier instance.  In a future version, a new instance will always be created and returned.  Meanwhile, this warning can be suppressed, and the future behavior ensured, by passing a unique label to each axes instance.\n"
          ]
        },
        {
          "output_type": "display_data",
          "data": {
            "text/plain": [
              "<Figure size 2160x720 with 5 Axes>"
            ],
            "image/png": "[encoded data removed]"
          },
          "metadata": {
            "needs_background": "light"
          }
        }
      ]
    },
    {
      "cell_type": "markdown",
      "source": [
        "CLUSTER VISTING ORDER BASED ON PERMUTATION OBTAINED"
      ],
      "metadata": {
        "id": "IcW5Pcy2fr7Y"
      }
    },
    {
      "cell_type": "code",
      "source": [
        "for i in range(5):\n",
        "  print(\"Visting order of clusters for\",i+1,\"is\",arr_perm_tfidf[i])\n",
        "  print(\"Total distance travelled is\",arr_dist_tfidf[i])\n",
        " \n"
      ],
      "metadata": {
        "id": "RPY3jlUX095c",
        "colab": {
          "base_uri": "https://localhost:8080/"
        },
        "outputId": "aefe7a56-3c39-4b02-b251-c443a92131cb"
      },
      "execution_count": null,
      "outputs": [
        {
          "output_type": "stream",
          "name": "stdout",
          "text": [
            "Visting order of clusters for 1 is [0, 2, 1, 3]\n",
            "Total distance travelled is 0.6851193959499056\n",
            "Visting order of clusters for 2 is [0, 2, 1, 3]\n",
            "Total distance travelled is 0.6851193959499056\n",
            "Visting order of clusters for 3 is [0, 2, 1, 3]\n",
            "Total distance travelled is 0.6851193959499056\n",
            "Visting order of clusters for 4 is [0, 2, 1, 3]\n",
            "Total distance travelled is 0.6851193959499056\n",
            "Visting order of clusters for 5 is [0, 1, 3, 2]\n",
            "Total distance travelled is 3.538172645976215\n"
          ]
        }
      ]
    },
    {
      "cell_type": "markdown",
      "source": [
        "VISITING ORDER OF PLACES FOR WEIGHING SCHEME 1"
      ],
      "metadata": {
        "id": "WEGe1UoTW1Ml"
      }
    },
    {
      "cell_type": "code",
      "source": [
        "counter=1\n",
        "for i in arr_perm_tfidf[0]:\n",
        "  list_c=np.where(kmeans_obj[0]==i)\n",
        "  # print(list_c)\n",
        "  X_tr=ans_df1.iloc[list_c]\n",
        "  print(\"Travel locations for day\",counter)\n",
        "  print(X_tr['Place'].to_numpy())\n",
        "  counter=counter+1"
      ],
      "metadata": {
        "id": "Xw4SJHdU0-xK",
        "colab": {
          "base_uri": "https://localhost:8080/"
        },
        "outputId": "0c91e9c4-a3e8-423c-ff36-e02f8b5f3727"
      },
      "execution_count": null,
      "outputs": [
        {
          "output_type": "stream",
          "name": "stdout",
          "text": [
            "Travel locations for day 1\n",
            "['Nirmal Lifestyle Mall' 'Prime Mall']\n",
            "Travel locations for day 2\n",
            "['Gorai Beach' 'Inorbit Mall' 'Madh Island']\n",
            "Travel locations for day 3\n",
            "['Atria Mall' 'Ballard Estate' 'Chor Bazaar' 'High Street Phoenix'\n",
            " 'Malabar Hill']\n",
            "Travel locations for day 4\n",
            "['Dynamix Mall' 'Juhu' 'K Star Mall' 'Link Square Mall' 'R Odeon Mall']\n"
          ]
        }
      ]
    },
    {
      "cell_type": "markdown",
      "source": [
        "VISTING ORDER FOR WEIGHING SCHEME 2"
      ],
      "metadata": {
        "id": "WGRujBkHXxAS"
      }
    },
    {
      "cell_type": "code",
      "source": [
        "counter=1\n",
        "for i in arr_perm_tfidf[1]:\n",
        "  list_c=np.where(kmeans_obj[1]==i)\n",
        "  # print(list_c)\n",
        "  X_tr=ans_df2.iloc[list_c]\n",
        "  print(\"Travel locations for day\",counter)\n",
        "  print(X_tr['Place'].to_numpy())\n",
        "  counter=counter+1"
      ],
      "metadata": {
        "id": "M4WTM2maXwpL",
        "colab": {
          "base_uri": "https://localhost:8080/"
        },
        "outputId": "47b4baf7-2e54-4c51-8ac5-58ee30835604"
      },
      "execution_count": null,
      "outputs": [
        {
          "output_type": "stream",
          "name": "stdout",
          "text": [
            "Travel locations for day 1\n",
            "['Nirmal Lifestyle Mall' 'Prime Mall']\n",
            "Travel locations for day 2\n",
            "['Gorai Beach' 'Inorbit Mall' 'Madh Island']\n",
            "Travel locations for day 3\n",
            "['Atria Mall' 'Ballard Estate' 'Chor Bazaar' 'High Street Phoenix'\n",
            " 'Malabar Hill']\n",
            "Travel locations for day 4\n",
            "['Dynamix Mall' 'Juhu' 'K Star Mall' 'Link Square Mall' 'R Odeon Mall']\n"
          ]
        }
      ]
    },
    {
      "cell_type": "markdown",
      "source": [
        "VISITING ORDER FOR WEIGHING SCHEME 3"
      ],
      "metadata": {
        "id": "uRyYuTtLYLTt"
      }
    },
    {
      "cell_type": "code",
      "source": [
        "counter=1\n",
        "for i in arr_perm_tfidf[2]:\n",
        "  list_c=np.where(kmeans_obj[2]==i)\n",
        "  # print(list_c)\n",
        "  X_tr=ans_df3.iloc[list_c]\n",
        "  print(\"Travel locations for day\",counter)\n",
        "  print(X_tr['Place'].to_numpy())\n",
        "  counter=counter+1"
      ],
      "metadata": {
        "id": "W1aV2uHWYO87",
        "colab": {
          "base_uri": "https://localhost:8080/"
        },
        "outputId": "346ce9cd-61eb-4246-bcfe-250c913b98a9"
      },
      "execution_count": null,
      "outputs": [
        {
          "output_type": "stream",
          "name": "stdout",
          "text": [
            "Travel locations for day 1\n",
            "['Nirmal Lifestyle Mall' 'Prime Mall']\n",
            "Travel locations for day 2\n",
            "['Gorai Beach' 'Inorbit Mall' 'Madh Island']\n",
            "Travel locations for day 3\n",
            "['Atria Mall' 'Ballard Estate' 'Chor Bazaar' 'High Street Phoenix'\n",
            " 'Malabar Hill']\n",
            "Travel locations for day 4\n",
            "['Dynamix Mall' 'Juhu' 'K Star Mall' 'Link Square Mall' 'R Odeon Mall']\n"
          ]
        }
      ]
    },
    {
      "cell_type": "markdown",
      "source": [
        "VISITING ORDER FOR WEIGHING SCHEME 4"
      ],
      "metadata": {
        "id": "OpoxqhybYXs-"
      }
    },
    {
      "cell_type": "code",
      "source": [
        "counter=1\n",
        "for i in arr_perm_tfidf[3]:\n",
        "  list_c=np.where(kmeans_obj[3]==i)\n",
        "  # print(list_c)\n",
        "  X_tr=ans_df4.iloc[list_c]\n",
        "  print(\"Travel locations for day\",counter)\n",
        "  print(X_tr['Place'].to_numpy())\n",
        "  counter=counter+1"
      ],
      "metadata": {
        "id": "YP6CisVVYbVH",
        "colab": {
          "base_uri": "https://localhost:8080/"
        },
        "outputId": "ac6825af-4a07-42fa-f959-609da480bd5f"
      },
      "execution_count": null,
      "outputs": [
        {
          "output_type": "stream",
          "name": "stdout",
          "text": [
            "Travel locations for day 1\n",
            "['Nirmal Lifestyle Mall' 'Prime Mall']\n",
            "Travel locations for day 2\n",
            "['Gorai Beach' 'Inorbit Mall' 'Madh Island']\n",
            "Travel locations for day 3\n",
            "['Atria Mall' 'Ballard Estate' 'Chor Bazaar' 'High Street Phoenix'\n",
            " 'Malabar Hill']\n",
            "Travel locations for day 4\n",
            "['Dynamix Mall' 'Juhu' 'K Star Mall' 'Link Square Mall' 'R Odeon Mall']\n"
          ]
        }
      ]
    },
    {
      "cell_type": "markdown",
      "source": [
        "VISITING ORDER FOR WEIGHING SCHEME 5"
      ],
      "metadata": {
        "id": "zuFjuZu2Yi85"
      }
    },
    {
      "cell_type": "code",
      "source": [
        "counter=1\n",
        "for i in arr_perm_tfidf[4]:\n",
        "  list_c=np.where(kmeans_obj[4]==i)\n",
        "  # print(list_c)\n",
        "  X_tr=ans_df5.iloc[list_c]\n",
        "  print(\"Travel locations for day\",counter)\n",
        "  print(X_tr['Place'].to_numpy())\n",
        "  counter=counter+1"
      ],
      "metadata": {
        "id": "XXM0szIIYioQ",
        "colab": {
          "base_uri": "https://localhost:8080/"
        },
        "outputId": "b75a3955-f83c-4e61-cb25-706323354e8b"
      },
      "execution_count": null,
      "outputs": [
        {
          "output_type": "stream",
          "name": "stdout",
          "text": [
            "Travel locations for day 1\n",
            "['Aarey Bhaskar Garden' 'Madh Fort' 'Orchid City Centre Mall' 'V Mall'\n",
            " 'Vihar Lake']\n",
            "Travel locations for day 2\n",
            "['St Teresa Church']\n",
            "Travel locations for day 3\n",
            "['Wadia Clock Tower']\n",
            "Travel locations for day 4\n",
            "['Atomic Energy Junior College' 'Crossroads Mall' 'Jio Garden'\n",
            " 'Link Square Mall' 'Mahim Fort']\n"
          ]
        }
      ]
    },
    {
      "cell_type": "markdown",
      "source": [
        "### PERFORMANCE EVALUATION"
      ],
      "metadata": {
        "id": "OcevKtUIkzde"
      }
    },
    {
      "cell_type": "code",
      "source": [
        "import pdb"
      ],
      "metadata": {
        "id": "t_C_iXmvuIlU"
      },
      "execution_count": null,
      "outputs": []
    },
    {
      "cell_type": "code",
      "source": [
        "## Import benchmark dataset for computing the performance \n",
        "\n",
        "df_bmark = pd.read_csv('/content/drive/MyDrive/IR_Project_Shared/test_data_project - Sheet1.csv')\n",
        "df_bmark.head(2)\n",
        "## extract benchmark data in these lists\n",
        "\n",
        "bmark_historical = []\n",
        "bmark_beaches = []\n",
        "bmark_temples = []\n",
        "bmark_parks = []\n",
        "\n",
        "bmark_historical.append(df_bmark.loc[0][\"place1\"])\n",
        "bmark_historical.append(df_bmark.loc[0][\"place2\"])\n",
        "bmark_historical.append(df_bmark.loc[0][\"place3\"])\n",
        "bmark_historical.append(df_bmark.loc[0][\"place4\"])\n",
        "bmark_historical.append(df_bmark.loc[0][\"place5\"])\n",
        "bmark_historical.append(df_bmark.loc[0][\"place6\"])\n",
        "bmark_historical.append(df_bmark.loc[0][\"place7\"])\n",
        "bmark_historical.append(df_bmark.loc[0][\"place8\"])\n",
        "bmark_historical.append(df_bmark.loc[0][\"place9\"])\n",
        "bmark_historical.append(df_bmark.loc[0][\"place10\"])\n",
        "\n",
        "bmark_beaches.append(df_bmark.loc[1][\"place1\"])\n",
        "bmark_beaches.append(df_bmark.loc[1][\"place2\"])\n",
        "bmark_beaches.append(df_bmark.loc[1][\"place3\"])\n",
        "bmark_beaches.append(df_bmark.loc[1][\"place4\"])\n",
        "bmark_beaches.append(df_bmark.loc[1][\"place5\"])\n",
        "bmark_beaches.append(df_bmark.loc[1][\"place6\"])\n",
        "bmark_beaches.append(df_bmark.loc[1][\"place7\"])\n",
        "bmark_beaches.append(df_bmark.loc[1][\"place8\"])\n",
        "bmark_beaches.append(df_bmark.loc[1][\"place9\"])\n",
        "bmark_beaches.append(df_bmark.loc[1][\"place10\"])\n",
        "\n",
        "bmark_temples.append(df_bmark.loc[2][\"place1\"])\n",
        "bmark_temples.append(df_bmark.loc[2][\"place2\"])\n",
        "bmark_temples.append(df_bmark.loc[2][\"place3\"])\n",
        "bmark_temples.append(df_bmark.loc[2][\"place4\"])\n",
        "bmark_temples.append(df_bmark.loc[2][\"place5\"])\n",
        "bmark_temples.append(df_bmark.loc[2][\"place6\"])\n",
        "bmark_temples.append(df_bmark.loc[2][\"place7\"])\n",
        "bmark_temples.append(df_bmark.loc[2][\"place8\"])\n",
        "bmark_temples.append(df_bmark.loc[2][\"place9\"])\n",
        "bmark_temples.append(df_bmark.loc[2][\"place10\"])\n",
        "\n",
        "bmark_parks.append(df_bmark.loc[3][\"place1\"])\n",
        "bmark_parks.append(df_bmark.loc[3][\"place2\"])\n",
        "bmark_parks.append(df_bmark.loc[3][\"place3\"])\n",
        "bmark_parks.append(df_bmark.loc[3][\"place4\"])\n",
        "bmark_parks.append(df_bmark.loc[3][\"place5\"])\n",
        "bmark_parks.append(df_bmark.loc[3][\"place6\"])\n",
        "bmark_parks.append(df_bmark.loc[3][\"place7\"])\n",
        "bmark_parks.append(df_bmark.loc[3][\"place8\"])\n",
        "bmark_parks.append(df_bmark.loc[3][\"place9\"])\n",
        "bmark_parks.append(df_bmark.loc[3][\"place10\"])\n",
        "\n",
        "print(bmark_historical)\n",
        "print(bmark_beaches)\n",
        "print(bmark_temples)\n",
        "print(bmark_parks)\n",
        "## extract query outputs\n",
        "\n",
        "\n",
        "\n",
        "\n",
        "query_output_historical = make_query(\"I want to visit historical places\", \"Mumbai\")[0]\n",
        "query_output_historical=query_output_historical[:10]\n",
        "query_output_historical = [x for (x,y) in query_output_historical]\n",
        "\n",
        "query_output_beaches = make_query(\"I want to visit beach and beaches\", \"Mumbai\")[0]\n",
        "query_output_beaches=query_output_beaches[:10]\n",
        "query_output_beaches = [x for (x,y) in query_output_beaches]\n",
        "\n",
        "query_output_temples = make_query(\"I want to visit temple and temples\", \"Mumbai\")[0]\n",
        "query_output_temples =query_output_temples [:10]\n",
        "query_output_temples = [x for (x,y) in query_output_temples]\n",
        "\n",
        "query_output_parks = make_query(\"I want to visit park and parks\", \"New Delhi\")[0]\n",
        "query_output_parks=query_output_parks[:10]\n",
        "query_output_parks = [x for (x,y) in query_output_parks]\n",
        "\n",
        "print(query_output_historical)\n",
        "print(query_output_beaches)\n",
        "print(query_output_temples)\n",
        "print(query_output_parks)\n",
        "\n",
        "\n",
        "## compute performance of the queries, in terms of precision@10\n",
        "\n",
        "precision_10_historical = len(set(bmark_historical).intersection(set(query_output_historical)))/10 * 100\n",
        "print(precision_10_historical)\n",
        "\n",
        "precision_10_beaches = len(set(bmark_beaches).intersection(set(query_output_beaches)))/10 * 100\n",
        "print(precision_10_beaches)\n",
        "\n",
        "\n",
        "precision_10_temples = len(set(bmark_temples).intersection(set(query_output_temples)))/10 * 100\n",
        "print(precision_10_temples)\n",
        "\n",
        "precision_10_parks = len(set(bmark_parks).intersection(set(query_output_parks)))/10 * 100\n",
        "print(precision_10_parks)\n",
        "\n",
        "sum=0\n",
        "sum=sum+precision_10_historical+precision_10_beaches+precision_10_temples+precision_10_parks\n",
        "sum=sum/4\n",
        "print(\"Avg precision for Jaccard Model\",sum)\n"
      ],
      "metadata": {
        "id": "T5bKec5hk0Md",
        "colab": {
          "base_uri": "https://localhost:8080/"
        },
        "outputId": "97a82c39-113e-4cf4-ad1b-9a39c63bd4cc"
      },
      "execution_count": null,
      "outputs": [
        {
          "output_type": "stream",
          "name": "stdout",
          "text": [
            "['St. Thomas Cathedral Mumbai', 'Bombay High Court', 'Malabar Hill', 'Chhatrapati Shivaji Maharaj Vastu Sangrahalaya', 'Churchgate Railway Station', 'Elephanta Caves', 'Haji Ali Dargah', 'Kanheri Caves', 'Marine Drive', 'Shree Siddhivinayak']\n",
            "['Marine Drive', 'Rock Beach', 'Manori Beach', 'Girgaum Chowpatty', 'Gorai Beach', 'Aksa Beach', 'Juhu Beach', 'Silver Beach', 'Madh Island', 'Marve Beach']\n",
            "['Shree Siddhivinayak', 'Shri Swaminarayan Mandir', 'Shree Saraswati Temple', 'Parsi Fire Temple', 'Walkeshwar Temple', 'Babulnath Mandir', 'Swami Samarth Temple', 'Walkeshwar Temple', 'Mahalakshmi Temple', '\\nVitthal Rukmini Mandir']\n",
            "['Nehru Park', 'Millennium Park', 'Rajpath', 'Priyadarshini Park', 'Hauz Khas District Park', 'Swarn Jayanti Park', 'Waste to Wonder Park', 'Central Park', 'Fountain Park', 'Astha Kunj Park']\n"
          ]
        },
        {
          "output_type": "stream",
          "name": "stderr",
          "text": [
            "/usr/local/lib/python3.7/dist-packages/torch/autocast_mode.py:141: UserWarning: User provided device_type of 'cuda', but CUDA is not available. Disabling\n",
            "  warnings.warn('User provided device_type of \\'cuda\\', but CUDA is not available. Disabling')\n"
          ]
        },
        {
          "output_type": "stream",
          "name": "stdout",
          "text": [
            "['Ballard Estate', 'St. Thomas Cathedral Mumbai', 'Flora Fountain', 'Bhau Daji Lad Museum', 'Bombay High Court', 'Shivaji Park', 'Malabar Hill', 'Prithvi Theatre', 'Churchgate Railway Station', 'Dhobi Ghat']\n",
            "['Erangal Beach', 'Uttan Beach', 'Madh Island', 'Manori Beach', 'Juhu', 'Girgaum Chowpatty', 'Marve Beach', 'Versova Beach', 'Gorai Beach', 'Aksa Beach']\n",
            "['Shri Swaminarayan Mandir', 'Wadia Clock Tower', 'Shri Ram Mandir', 'Maheshwari Udyan', 'Swami Samarth Temple', 'Jogeshwari Caves', 'Walkeshwar Temple', 'Mandapeshwar Caves', 'Parsi Fire Temple', 'Chinmaya Mission']\n",
            "[\"National Children's Museum\", 'Tomb of Balban', 'Delhi University Sports Complex', 'Swarn Jayanti Park', 'Delhi Rides', 'Mutiny Memorial', 'Millennium Park', 'Ajmeri Gate', 'Major Dhyan Chand National Stadium', 'Waste to Wonder Park']\n",
            "40.0\n",
            "60.0\n",
            "40.0\n",
            "30.0\n",
            "Avg precision for Jaccard Model 42.5\n"
          ]
        }
      ]
    },
    {
      "cell_type": "markdown",
      "source": [
        "PERFORMANCE OF TF-IDF"
      ],
      "metadata": {
        "id": "xJY-c_IipPh1"
      }
    },
    {
      "cell_type": "code",
      "source": [
        "_## Import benchmark dataset for computing the performance \n",
        "\n",
        "df_bmark = pd.read_csv('/content/drive/MyDrive/IR_Project_Shared/test_data_project - Sheet1.csv')\n",
        "df_bmark.head(2)\n",
        "## extract benchmark data in these lists\n",
        "\n",
        "bmark_historical = []\n",
        "bmark_beaches = []\n",
        "bmark_temples = []\n",
        "bmark_parks = []\n",
        "\n",
        "bmark_historical.append(df_bmark.loc[0][\"place1\"])\n",
        "bmark_historical.append(df_bmark.loc[0][\"place2\"])\n",
        "bmark_historical.append(df_bmark.loc[0][\"place3\"])\n",
        "bmark_historical.append(df_bmark.loc[0][\"place4\"])\n",
        "bmark_historical.append(df_bmark.loc[0][\"place5\"])\n",
        "bmark_historical.append(df_bmark.loc[0][\"place6\"])\n",
        "bmark_historical.append(df_bmark.loc[0][\"place7\"])\n",
        "bmark_historical.append(df_bmark.loc[0][\"place8\"])\n",
        "bmark_historical.append(df_bmark.loc[0][\"place9\"])\n",
        "bmark_historical.append(df_bmark.loc[0][\"place10\"])\n",
        "\n",
        "bmark_beaches.append(df_bmark.loc[1][\"place1\"])\n",
        "bmark_beaches.append(df_bmark.loc[1][\"place2\"])\n",
        "bmark_beaches.append(df_bmark.loc[1][\"place3\"])\n",
        "bmark_beaches.append(df_bmark.loc[1][\"place4\"])\n",
        "bmark_beaches.append(df_bmark.loc[1][\"place5\"])\n",
        "bmark_beaches.append(df_bmark.loc[1][\"place6\"])\n",
        "bmark_beaches.append(df_bmark.loc[1][\"place7\"])\n",
        "bmark_beaches.append(df_bmark.loc[1][\"place8\"])\n",
        "bmark_beaches.append(df_bmark.loc[1][\"place9\"])\n",
        "bmark_beaches.append(df_bmark.loc[1][\"place10\"])\n",
        "\n",
        "bmark_temples.append(df_bmark.loc[2][\"place1\"])\n",
        "bmark_temples.append(df_bmark.loc[2][\"place2\"])\n",
        "bmark_temples.append(df_bmark.loc[2][\"place3\"])\n",
        "bmark_temples.append(df_bmark.loc[2][\"place4\"])\n",
        "bmark_temples.append(df_bmark.loc[2][\"place5\"])\n",
        "bmark_temples.append(df_bmark.loc[2][\"place6\"])\n",
        "bmark_temples.append(df_bmark.loc[2][\"place7\"])\n",
        "bmark_temples.append(df_bmark.loc[2][\"place8\"])\n",
        "bmark_temples.append(df_bmark.loc[2][\"place9\"])\n",
        "bmark_temples.append(df_bmark.loc[2][\"place10\"])\n",
        "\n",
        "bmark_parks.append(df_bmark.loc[3][\"place1\"])\n",
        "bmark_parks.append(df_bmark.loc[3][\"place2\"])\n",
        "bmark_parks.append(df_bmark.loc[3][\"place3\"])\n",
        "bmark_parks.append(df_bmark.loc[3][\"place4\"])\n",
        "bmark_parks.append(df_bmark.loc[3][\"place5\"])\n",
        "bmark_parks.append(df_bmark.loc[3][\"place6\"])\n",
        "bmark_parks.append(df_bmark.loc[3][\"place7\"])\n",
        "bmark_parks.append(df_bmark.loc[3][\"place8\"])\n",
        "bmark_parks.append(df_bmark.loc[3][\"place9\"])\n",
        "bmark_parks.append(df_bmark.loc[3][\"place10\"])\n",
        "\n",
        "print(bmark_historical)\n",
        "print(bmark_beaches)\n",
        "print(bmark_temples)\n",
        "print(bmark_parks)\n",
        "## extract query outputs\n",
        "\n",
        "query_output_historical1,query_output_historical2,query_output_historical3,query_output_historical4,query_output_historical5= make_querytfidf(\"I want to visit historical places\", \"Mumbai\")\n",
        "# query_output_historical1=query_output_historical1[0]\n",
        "# query_output_historical1=query_output_historical1[:10]\n",
        "query_output_historical1 = [x for (x,y) in query_output_historical1]\n",
        "\n",
        "query_output_beaches1,query_output_beaches2,query_output_beaches3,query_output_beaches4,query_output_beaches5 = make_querytfidf(\"I want to visit beach and beaches\", \"Mumbai\")\n",
        "# query_output_beaches1=query_output_beaches1[0]\n",
        "# query_output_beaches1=query_output_beaches1[:10]\n",
        "query_output_beaches1 = [x for (x,y) in query_output_beaches1]\n",
        "\n",
        "query_output_temples1,query_output_temples2,query_output_temples3,query_output_temples4,query_output_temples5 = make_querytfidf(\"I want to visit temple and temples\", \"Mumbai\")\n",
        "# query_output_temples1=query_output_temples1[0]\n",
        "# query_output_temples1=query_output_temples1[:10]\n",
        "query_output_temples1 = [x for (x,y) in query_output_temples1]\n",
        "\n",
        "query_output_parks1,query_output_parks2,query_output_parks3 ,query_output_parks4 ,query_output_parks5 = make_querytfidf(\"I want to visit park and parks\", \"New Delhi\")\n",
        "# query_output_parks1=query_output_parks1[0]\n",
        "# query_output_parks1=query_output_parks1[:10]\n",
        "query_output_parks1 = [x for (x,y) in query_output_parks1]\n",
        "\n",
        "print(query_output_historical1)\n",
        "print(query_output_beaches1)\n",
        "print(query_output_temples1)\n",
        "print(query_output_parks1)\n",
        "\n",
        "\n",
        "## compute performance of the queries, in terms of precision@10\n",
        "sum=0\n",
        "precision_10_historical = len(set(bmark_historical).intersection(set(query_output_historical1)))/10 * 100\n",
        "print(precision_10_historical)\n",
        "sum=sum+precision_10_historical \n",
        "precision_10_beaches = len(set(bmark_beaches).intersection(set(query_output_beaches1)))/10 * 100\n",
        "print(precision_10_beaches)\n",
        "sum=sum+precision_10_beaches\n",
        "precision_10_temples = len(set(bmark_temples).intersection(set(query_output_temples1)))/10 * 100\n",
        "print(precision_10_temples)\n",
        "sum=sum+precision_10_temples\n",
        "precision_10_parks = len(set(bmark_parks).intersection(set(query_output_parks1)))/10 * 100\n",
        "print(precision_10_parks)\n",
        "sum=sum+precision_10_parks\n",
        "sum=sum/4\n",
        "print(\"Avg precision for TF-IDF MODEL \",sum)"
      ],
      "metadata": {
        "colab": {
          "base_uri": "https://localhost:8080/"
        },
        "id": "6bgSbC39pF4h",
        "outputId": "4172d6b8-c433-43d5-a01e-45b797a1214b"
      },
      "execution_count": null,
      "outputs": [
        {
          "output_type": "stream",
          "name": "stdout",
          "text": [
            "['St. Thomas Cathedral Mumbai', 'Bombay High Court', 'Malabar Hill', 'Chhatrapati Shivaji Maharaj Vastu Sangrahalaya', 'Churchgate Railway Station', 'Elephanta Caves', 'Haji Ali Dargah', 'Kanheri Caves', 'Marine Drive', 'Shree Siddhivinayak']\n",
            "['Marine Drive', 'Rock Beach', 'Manori Beach', 'Girgaum Chowpatty', 'Gorai Beach', 'Aksa Beach', 'Juhu Beach', 'Silver Beach', 'Madh Island', 'Marve Beach']\n",
            "['Shree Siddhivinayak', 'Shri Swaminarayan Mandir', 'Shree Saraswati Temple', 'Parsi Fire Temple', 'Walkeshwar Temple', 'Babulnath Mandir', 'Swami Samarth Temple', 'Walkeshwar Temple', 'Mahalakshmi Temple', '\\nVitthal Rukmini Mandir']\n",
            "['Nehru Park', 'Millennium Park', 'Rajpath', 'Priyadarshini Park', 'Hauz Khas District Park', 'Swarn Jayanti Park', 'Waste to Wonder Park', 'Central Park', 'Fountain Park', 'Astha Kunj Park']\n"
          ]
        },
        {
          "output_type": "stream",
          "name": "stderr",
          "text": [
            "/usr/local/lib/python3.7/dist-packages/torch/autocast_mode.py:141: UserWarning: User provided device_type of 'cuda', but CUDA is not available. Disabling\n",
            "  warnings.warn('User provided device_type of \\'cuda\\', but CUDA is not available. Disabling')\n"
          ]
        },
        {
          "output_type": "stream",
          "name": "stdout",
          "text": [
            "['Ballard Estate', 'St. Thomas Cathedral Mumbai', 'Flora Fountain', 'Bhau Daji Lad Museum', 'Bombay High Court', 'Shivaji Park', 'Malabar Hill', 'Prithvi Theatre', 'Churchgate Railway Station']\n",
            "['Uttan Beach', 'Madh Island', 'Manori Beach', 'Girgaum Chowpatty', 'Erangal Beach', 'Aksa Beach', 'Gorai Beach', 'Juhu', 'Marve Beach', 'Chowpatty Beach', 'Versova Beach', 'Priyadarshini Park', 'Kamala Nehru Park', 'Juhu Beach', 'Bandstand Promenade', 'Worli Sea Face', 'Shivaji Park', 'Elephanta Caves', 'Taraporewala Aquarium', 'Malabar Hill', 'Marine Drive', 'Prithvi Theatre', 'Gateway of India', 'Chhatrapati Shivaji Terminus', 'Essel World']\n",
            "['Shri Swaminarayan Mandir', 'Walkeshwar Temple', 'Jogeshwari Caves', 'Wadia Clock Tower', 'Shri Ram Mandir', 'Swami Samarth Temple', 'Maheshwari Udyan', 'Parsi Fire Temple', 'Banganga', 'Mandapeshwar Caves', 'Chinmaya Mission', 'Jain Temple - Mumbai']\n",
            "['Swarn Jayanti Park', \"Fun 'n' Food Village\", 'Nehru Park', 'Delhi University Sports Complex', \"National Children's Museum\", 'Mutiny Memorial', 'Tomb of Balban', 'Adventure Island', 'Delhi Rides', 'Millennium Park', 'Major Dhyan Chand National Stadium', 'Ajmeri Gate', 'National Zoological Park of Delhi', \"Safdarjung's Tomb\", 'Parliament House', 'Waste to Wonder Park']\n",
            "40.0\n",
            "80.0\n",
            "40.0\n",
            "40.0\n",
            "Avg precision for TF-IDF MODEL  50.0\n"
          ]
        }
      ]
    }
  ]
}